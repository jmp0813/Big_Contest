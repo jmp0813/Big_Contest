{
 "cells": [
  {
   "cell_type": "code",
   "execution_count": null,
   "metadata": {},
   "outputs": [],
   "source": [
    "!pip3 install openpyxl --user\n",
    "!pip3 install pandas --user"
   ]
  },
  {
   "cell_type": "code",
   "execution_count": 2,
   "metadata": {},
   "outputs": [],
   "source": [
    "import sys\n",
    "import openpyxl\n",
    "import pandas as pd\n",
    "from openpyxl.utils.dataframe import dataframe_to_rows"
   ]
  },
  {
   "cell_type": "code",
   "execution_count": 3,
   "metadata": {},
   "outputs": [],
   "source": [
    "def parse_sheet(worksheet):\n",
    "    data = []\n",
    "    rows = [row for row in worksheet.rows]\n",
    "    for row in rows:\n",
    "        data.append([cell.value for cell in row])\n",
    "    header = data.pop(0)\n",
    "    return pd.DataFrame(data = data, columns = header)"
   ]
  },
  {
   "cell_type": "code",
   "execution_count": 4,
   "metadata": {},
   "outputs": [],
   "source": [
    "def load_data(year):\n",
    "    filepath = f'../data/season_{year}.xlsx'\n",
    "    workbook = openpyxl.load_workbook(filepath)\n",
    "    \n",
    "    data = dict()\n",
    "    data['team'] = parse_sheet(workbook.worksheets[0]) # <Worksheet \"1.팀\">,\n",
    "    data['game'] = parse_sheet(workbook.worksheets[1]) #  <Worksheet \"2.경기\">,\n",
    "    data['player'] = parse_sheet(workbook.worksheets[2]) #  <Worksheet \"3.선수\">,\n",
    "    data['team_pitcher'] = parse_sheet(workbook.worksheets[3]) #  <Worksheet \"4.팀투수\">,\n",
    "    data['team_batter'] = parse_sheet(workbook.worksheets[4]) #  <Worksheet \"5.팀타자\">,\n",
    "    data['player_pitcher'] = parse_sheet(workbook.worksheets[5]) #  <Worksheet \"6.개인투수\">,\n",
    "    data['player_batter'] = parse_sheet(workbook.worksheets[6]) #  <Worksheet \"7.개인타자\">,\n",
    "    data['entry'] = parse_sheet(workbook.worksheets[7]) #  <Worksheet \"8.등록선수(일자별)\">\n",
    "    data['csum_team_pitcher'] = parse_sheet(workbook.worksheets[8]) #  <Worksheet \"41.팀투수(요약)\">\n",
    "    data['csum_team_batter'] = parse_sheet(workbook.worksheets[9]) #  <Worksheet \"51.팀타자(요약)\">\n",
    "    data['csum_player_pitcher'] = parse_sheet(workbook.worksheets[10]) #  <Worksheet \"61.개인투수(요약)\">\n",
    "    data['csum_player_batter'] = parse_sheet(workbook.worksheets[11]) #  <Worksheet \"71.개인타자(요약)\">\n",
    "    return data"
   ]
  },
  {
   "cell_type": "code",
   "execution_count": 5,
   "metadata": {},
   "outputs": [],
   "source": [
    "def save_data(data, year, sheet):\n",
    "    filepath = f'data/season_{year}.xlsx'\n",
    "    wb = openpyxl.load_workbook(filepath)\n",
    "    ws = wb.create_sheet(sheet)\n",
    "    rows = dataframe_to_rows(data, index=False, header=True)\n",
    "\n",
    "    for r in rows:\n",
    "        ws.append(r)\n",
    "        \n",
    "    wb.save(filepath)\n",
    "    print(f'success save sheet to {filepath}:{sheet}')"
   ]
  },
  {
   "cell_type": "code",
   "execution_count": 6,
   "metadata": {},
   "outputs": [
    {
     "name": "stdout",
     "output_type": "stream",
     "text": [
      "      T_ID   GDAY_DS  HEADER_NO   P_ID  START_CK  BAT_ORDER_NO   PA   AB  RBI  \\\n",
      "0       HH  20160401          0  60404         0             3    1    1    0   \n",
      "1       HH  20160401          0  62700         1             9    2    2    0   \n",
      "2       HH  20160401          0  64086         1             7    6    4    0   \n",
      "3       HH  20160401          0  66740         1             5    6    6    0   \n",
      "4       HH  20160401          0  71347         1             2    6    6    1   \n",
      "...    ...       ...        ...    ...       ...           ...  ...  ...  ...   \n",
      "18679   WO  20161009          0  74215        91           374  402  341   80   \n",
      "18680   WO  20161009          0  78168       139           177  646  560   63   \n",
      "18681   WO  20161009          0  79130        15           251   80   66    7   \n",
      "18682   WO  20161009          0  79300        13           429  106   91    9   \n",
      "18683   WO  20161009          0  79365       122           965  454  411   70   \n",
      "\n",
      "       RUN  ...  BB  IB  HP  KK  GD  ERR  LOB  P_AB_CN  P_HIT_CN  GAME_COUNT  \n",
      "0        0  ...   0   0   0   0   0    0    1        0         0           1  \n",
      "1        1  ...   0   0   0   0   0    1    0        0         0           1  \n",
      "2        0  ...   1   0   0   3   0    0    1        2         0           1  \n",
      "3        0  ...   0   0   0   0   0    0    1        1         1           1  \n",
      "4        1  ...   0   0   0   2   0    0    0        1         0           1  \n",
      "...    ...  ...  ..  ..  ..  ..  ..  ...  ...      ...       ...         ...  \n",
      "18679   72  ...  46   3   9  50  16    6   77      121        35          92  \n",
      "18680  111  ...  69   2  10  58   6   15  113      118        36         140  \n",
      "18681   10  ...  11   0   1  24   1    1   18       20         3          40  \n",
      "18682   16  ...  10   0   0  16   3    0   29       25         4          81  \n",
      "18683   44  ...  27   0   7  93  18    7   71      132        33         127  \n",
      "\n",
      "[18684 rows x 28 columns]\n"
     ]
    }
   ],
   "source": [
    "if __name__ == '__main__': # example case\n",
    "    data_2016 = load_data(2016) \n",
    "#     print(data_2016['team'])\n",
    "#     print(data_2016['game'])\n",
    "#     print(data_2016['player'])\n",
    "#     print(data_2016['team_pitcher'])\n",
    "#     print(data_2016['team_batter'])\n",
    "    print(data_2016['csum_player_batter'])"
   ]
  }
 ],
 "metadata": {
  "celltoolbar": "Tags",
  "kernelspec": {
   "display_name": "Python 3",
   "language": "python",
   "name": "python3"
  },
  "language_info": {
   "codemirror_mode": {
    "name": "ipython",
    "version": 3
   },
   "file_extension": ".py",
   "mimetype": "text/x-python",
   "name": "python",
   "nbconvert_exporter": "python",
   "pygments_lexer": "ipython3",
   "version": "3.7.6"
  }
 },
 "nbformat": 4,
 "nbformat_minor": 4
}
