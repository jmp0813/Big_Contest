{
 "cells": [
  {
   "cell_type": "code",
   "execution_count": 25,
   "metadata": {},
   "outputs": [],
   "source": [
    "import pandas as pd\n",
    "import numpy as np\n",
    "import matplotlib.pyplot as plt\n",
    "%run load_data.ipynb"
   ]
  },
  {
   "cell_type": "code",
   "execution_count": 19,
   "metadata": {},
   "outputs": [],
   "source": [
    "data_2020 = load_data(2020)"
   ]
  },
  {
   "cell_type": "code",
   "execution_count": 9,
   "metadata": {},
   "outputs": [
    {
     "name": "stdout",
     "output_type": "stream",
     "text": [
      "team\n",
      "game\n",
      "player\n",
      "team_pitcher\n",
      "team_batter\n",
      "player_pitcher\n",
      "player_batter\n",
      "entry\n"
     ]
    }
   ],
   "source": [
    "for key in data_2020.keys() :\n",
    "    print(key, end = '\\n')"
   ]
  },
  {
   "cell_type": "code",
   "execution_count": 20,
   "metadata": {},
   "outputs": [
    {
     "name": "stderr",
     "output_type": "stream",
     "text": [
      "C:\\Users\\jmp08\\Anaconda3\\lib\\site-packages\\ipykernel_launcher.py:8: SettingWithCopyWarning: \n",
      "A value is trying to be set on a copy of a slice from a DataFrame\n",
      "\n",
      "See the caveats in the documentation: http://pandas.pydata.org/pandas-docs/stable/indexing.html#indexing-view-versus-copy\n",
      "  \n",
      "C:\\Users\\jmp08\\Anaconda3\\lib\\site-packages\\ipykernel_launcher.py:4: SettingWithCopyWarning: \n",
      "A value is trying to be set on a copy of a slice from a DataFrame\n",
      "\n",
      "See the caveats in the documentation: http://pandas.pydata.org/pandas-docs/stable/indexing.html#indexing-view-versus-copy\n",
      "  after removing the cwd from sys.path.\n"
     ]
    }
   ],
   "source": [
    "data_2020[\"player\"]\n",
    "for i in range(len(data_2020[\"player\"][\"MONEY\"])) :\n",
    "    if data_2020[\"player\"][\"MONEY\"][i][-2:] == \"달러\" :\n",
    "        data_2020[\"player\"][\"MONEY\"][i] = float(data_2020[\"player\"][\"MONEY\"][i][:-2]) / 1168\n",
    "    elif data_2020[\"player\"][\"MONEY\"][i][-2:] == \"엔\" :\n",
    "        data_2020[\"player\"][\"MONEY\"][i] = float(data_2020[\"player\"][\"MONEY\"][i][:-1]) / 11.26\n",
    "    else :\n",
    "        data_2020[\"player\"][\"MONEY\"][i] = float(data_2020[\"player\"][\"MONEY\"][i][:-2])"
   ]
  },
  {
   "cell_type": "code",
   "execution_count": 29,
   "metadata": {},
   "outputs": [
    {
     "data": {
      "text/plain": [
       "(array([506.,  52.,  27.,  18.,   4.,   4.,   2.,   1.,   0.,   5.,   2.,\n",
       "          1.,   0.,   0.,   0.,   3.,   0.,   0.,   1.,   1.]),\n",
       " array([42.80821917808219, 12540.667808219177, 25038.527397260274,\n",
       "        37536.386986301375, 50034.24657534247, 62532.106164383564,\n",
       "        75029.96575342467, 87527.82534246576, 100025.68493150685,\n",
       "        112523.54452054795, 125021.40410958904, 137519.26369863015,\n",
       "        150017.12328767125, 162514.98287671234, 175012.84246575343,\n",
       "        187510.70205479453, 200008.56164383562, 212506.42123287672,\n",
       "        225004.2808219178, 237502.1404109589, 250000.0], dtype=object),\n",
       " <a list of 20 Patch objects>)"
      ]
     },
     "execution_count": 29,
     "metadata": {},
     "output_type": "execute_result"
    },
    {
     "data": {
      "image/png": "[encoded data removed]",
      "text/plain": [
       "<Figure size 432x288 with 1 Axes>"
      ]
     },
     "metadata": {
      "needs_background": "light"
     },
     "output_type": "display_data"
    }
   ],
   "source": [
    "plt.hist(data_2020[\"player\"][\"MONEY\"], bins = 20)"
   ]
  }
 ],
 "metadata": {
  "kernelspec": {
   "display_name": "Python 3",
   "language": "python",
   "name": "python3"
  },
  "language_info": {
   "codemirror_mode": {
    "name": "ipython",
    "version": 3
   },
   "file_extension": ".py",
   "mimetype": "text/x-python",
   "name": "python",
   "nbconvert_exporter": "python",
   "pygments_lexer": "ipython3",
   "version": "3.7.3"
  }
 },
 "nbformat": 4,
 "nbformat_minor": 2
}
