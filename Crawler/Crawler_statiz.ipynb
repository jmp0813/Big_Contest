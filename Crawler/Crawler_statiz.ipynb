{
 "cells": [
  {
   "cell_type": "code",
   "execution_count": 1,
   "metadata": {},
   "outputs": [
    {
     "name": "stdout",
     "output_type": "stream",
     "text": [
      "Requirement already satisfied: openpyxl in c:\\users\\jmp08\\anaconda3\\lib\\site-packages (2.6.2)\n",
      "Requirement already satisfied: jdcal in c:\\users\\jmp08\\anaconda3\\lib\\site-packages (from openpyxl) (1.4.1)\n",
      "Requirement already satisfied: et-xmlfile in c:\\users\\jmp08\\anaconda3\\lib\\site-packages (from openpyxl) (1.0.1)\n",
      "Requirement already satisfied: pandas in c:\\users\\jmp08\\anaconda3\\lib\\site-packages (1.1.0)\n",
      "Requirement already satisfied: python-dateutil>=2.7.3 in c:\\users\\jmp08\\anaconda3\\lib\\site-packages (from pandas) (2.8.0)\n",
      "Requirement already satisfied: numpy>=1.15.4 in c:\\users\\jmp08\\anaconda3\\lib\\site-packages (from pandas) (1.16.4)\n",
      "Requirement already satisfied: pytz>=2017.2 in c:\\users\\jmp08\\anaconda3\\lib\\site-packages (from pandas) (2019.1)\n",
      "Requirement already satisfied: six>=1.5 in c:\\users\\jmp08\\anaconda3\\lib\\site-packages (from python-dateutil>=2.7.3->pandas) (1.12.0)\n",
      "      T_ID   GDAY_DS  HEADER_NO   P_ID  START_CK  BAT_ORDER_NO   PA   AB  RBI  \\\n",
      "0       HH  20160401          0  60404         0             3    1    1    0   \n",
      "1       HH  20160401          0  62700         1             9    2    2    0   \n",
      "2       HH  20160401          0  64086         1             7    6    4    0   \n",
      "3       HH  20160401          0  66740         1             5    6    6    0   \n",
      "4       HH  20160401          0  71347         1             2    6    6    1   \n",
      "...    ...       ...        ...    ...       ...           ...  ...  ...  ...   \n",
      "18679   WO  20161009          0  74215        91           374  402  341   80   \n",
      "18680   WO  20161009          0  78168       139           177  646  560   63   \n",
      "18681   WO  20161009          0  79130        15           251   80   66    7   \n",
      "18682   WO  20161009          0  79300        13           429  106   91    9   \n",
      "18683   WO  20161009          0  79365       122           965  454  411   70   \n",
      "\n",
      "       RUN  ...  BB  IB  HP  KK  GD  ERR  LOB  P_AB_CN  P_HIT_CN  GAME_COUNT  \n",
      "0        0  ...   0   0   0   0   0    0    1        0         0           1  \n",
      "1        1  ...   0   0   0   0   0    1    0        0         0           1  \n",
      "2        0  ...   1   0   0   3   0    0    1        2         0           1  \n",
      "3        0  ...   0   0   0   0   0    0    1        1         1           1  \n",
      "4        1  ...   0   0   0   2   0    0    0        1         0           1  \n",
      "...    ...  ...  ..  ..  ..  ..  ..  ...  ...      ...       ...         ...  \n",
      "18679   72  ...  46   3   9  50  16    6   77      121        35          92  \n",
      "18680  111  ...  69   2  10  58   6   15  113      118        36         140  \n",
      "18681   10  ...  11   0   1  24   1    1   18       20         3          40  \n",
      "18682   16  ...  10   0   0  16   3    0   29       25         4          81  \n",
      "18683   44  ...  27   0   7  93  18    7   71      132        33         127  \n",
      "\n",
      "[18684 rows x 28 columns]\n"
     ]
    }
   ],
   "source": [
    "%run ../data_tools.ipynb\n",
    "%run ../create_metrics.ipynb"
   ]
  },
  {
   "cell_type": "code",
   "execution_count": 2,
   "metadata": {},
   "outputs": [],
   "source": [
    "import requests\n",
    "import pandas as pd\n",
    "\n",
    "from bs4 import BeautifulSoup\n",
    "player_list = load_data(2020)[\"player\"]\n",
    "team_list = load_data(2020)[\"team\"]"
   ]
  },
  {
   "cell_type": "code",
   "execution_count": 3,
   "metadata": {},
   "outputs": [],
   "source": [
    "req = requests.get(\"http://old.statiz.co.kr/player.php?opt=1\")\n",
    "html = req.text\n",
    "soup = BeautifulSoup(html, \"html.parser\")\n",
    "player_url = soup.select(\".table_stz a\")\n",
    "\n",
    "default_url = \"http://old.statiz.co.kr/player.php?opt=3&\"\n",
    "default_pa_url = \"http://old.statiz.co.kr/player.php?opt=6&\"\n",
    "default_money_url = \"http://old.statiz.co.kr/player.php?opt=11&\"\n",
    "batter = pd.DataFrame()\n",
    "pitcher = pd.DataFrame()\n",
    "batter_pa = pd.DataFrame()\n",
    "\n",
    "for i in range(len(player_url)) :\n",
    "    req = requests.get(default_url + player_url[i][\"href\"].split(\"?\")[1])\n",
    "    html = req.text\n",
    "    soup = BeautifulSoup(html, \"html.parser\")\n",
    "    table = soup.select(\"table\", {\"class\" : \"table_stz\"})\n",
    "    res = pd.read_html(str(table))\n",
    "    result = res[0].loc[1:].reset_index(drop = True) \n",
    "    team_info = soup.findAll(\"div\", {\"id\" : [\"minimenu\", \"minimenu_list\"]})\n",
    "    \n",
    "    req = requests.get(default_money_url + player_url[i][\"href\"].split(\"?\")[1])\n",
    "    html = req.text\n",
    "    soup = BeautifulSoup(html, \"html.parser\")\n",
    "    table = soup.select(\"table\", {\"class\" : \"table_stz\"})\n",
    "    money = pd.read_html(str(table))\n",
    "\n",
    "    \n",
    "    if result.loc[0][3] == \"타순\" :\n",
    "        result = result[result.columns[:23]].reset_index(drop = True)\n",
    "        result[\"NAME\"] = player_url[i].text\n",
    "        result[\"AGE\"] = team_info[1].text\n",
    "        result[\"T_ID\"] = team_info[13].text\n",
    "        result[\"MONEY\"] = money[0].iloc[-1, 1]\n",
    "        batter = pd.concat([batter, result], axis = 0, ignore_index = True)\n",
    "        batter_columns = result.columns\n",
    "        \n",
    "        req = requests.get(default_pa_url + player_url[i][\"href\"].split(\"?\")[1] + \"&re=0&da=1&year=2020&plist=&pdate=\")\n",
    "        html = req.text\n",
    "        soup = BeautifulSoup(html, \"html.parser\")\n",
    "        table = soup.select(\"table\", {\"class\" : \"table_stz\"})\n",
    "        res = pd.read_html(str(table))\n",
    "        pa_res = res[0][res[0].columns[:5]][1:]\n",
    "        pa_res.columns = pa_res.loc[1]\n",
    "        pa_res = pa_res[1:].reset_index(drop = True)\n",
    "        batter_pa = pd.concat([batter_pa, pa_res])\n",
    "        \n",
    "    elif result.loc[0][3] ==  \"선발\":\n",
    "        result = result[result.columns[:19]].reset_index(drop = True)\n",
    "        result[\"NAME\"] = player_url[i].text\n",
    "        result[\"AGE\"] = team_info[1].text\n",
    "        result[\"T_ID\"] = team_info[13].text\n",
    "        result[\"MONEY\"] = money[0].iloc[-1, 1]\n",
    "        pitcher = pd.concat([pitcher, result], axis = 0, ignore_index = True)"
   ]
  },
  {
   "cell_type": "code",
   "execution_count": 4,
   "metadata": {},
   "outputs": [],
   "source": [
    "batter.columns = [\"GDAY_DS\", \"VS_T_ID\", \"RES\", \"BAT_ORDER_NO\", \"POSITION\", \"START_CK\", \"AB\", \"RUN\",\n",
    "                \"HIT\", \"H2\", \"H3\", \"HR\", \"TB\", \"RBI\", \"SB\", \"CS\", \"BB\", \"HP\", \"IB\", \"KK\", \"GD\", \"SH\", \"SF\", \"NAME\", \"AGE\", \"T_ID\", \"MONEY\"]\n",
    "batter = batter[batter[\"VS_T_ID\"] != \"상대\"]\n",
    "pitcher.columns = [\"GDAY_DS\", \"VS_T_ID\", \"RES\", \"START_CK\", \"INN2\",\n",
    "                   \"R\", \"ER\", \"PA\", \"AB\", \"HIT\", \"H2\", \"H3\", \"HR\",\n",
    "                   \"BB\", \"IB\", \"HP\", \"KK\", \"BF\", \"WHIP\", \"NAME\", \"AGE\", \"T_ID\", \"MONEY\"]\n",
    "pitcher = pitcher[pitcher[\"VS_T_ID\"] != \"상대\"]"
   ]
  },
  {
   "cell_type": "code",
   "execution_count": 5,
   "metadata": {},
   "outputs": [],
   "source": [
    "pitcher.loc[:, \"GDAY_DS\"] = pitcher[\"GDAY_DS\"].replace(\"\\-\", '', regex = True).astype(int)\n",
    "batter.loc[:, \"GDAY_DS\"] = batter[\"GDAY_DS\"].replace(\"\\-\", '', regex = True).astype(int)\n",
    "pitcher = pitcher[pitcher[\"GDAY_DS\"] > 719].reset_index(drop = True)\n",
    "batter = batter[batter[\"GDAY_DS\"] > 719].reset_index(drop = True)"
   ]
  },
  {
   "cell_type": "code",
   "execution_count": 6,
   "metadata": {},
   "outputs": [],
   "source": [
    "batter[\"GDAY_DS\"] = \"20200\" + batter[\"GDAY_DS\"].astype(str)\n",
    "for i in range(len(team_list)) :\n",
    "    batter.loc[team_list[\"T_NM\"][i] == batter[\"T_ID\"], [\"T_ID\"]] = team_list[\"T_ID\"][i]"
   ]
  },
  {
   "cell_type": "code",
   "execution_count": 7,
   "metadata": {},
   "outputs": [],
   "source": [
    "pitcher[\"GDAY_DS\"] = \"20200\" + pitcher[\"GDAY_DS\"].astype(str)\n",
    "for i in range(len(team_list)) :\n",
    "    pitcher.loc[team_list[\"T_NM\"][i] == pitcher[\"T_ID\"], [\"T_ID\"]] = team_list[\"T_ID\"][i]\n",
    "pitcher[\"WLS\"] = pitcher[\"RES\"].str.split(' ').str[0]\n",
    "pitcher[\"INN2\"] = (pitcher[\"INN2\"].astype(str).str.split('.').str[0].astype(int) * 3) + pitcher[\"INN2\"].astype(str).str.split('.').str[1].astype(int)"
   ]
  },
  {
   "cell_type": "code",
   "execution_count": 8,
   "metadata": {},
   "outputs": [],
   "source": [
    "pitcher[\"TB_SC\"] = pitcher[\"VS_T_ID\"].str.find('@')\n",
    "pitcher.loc[pitcher[\"TB_SC\"] == 0, \"TB_SC\"] = \"T\"\n",
    "pitcher.loc[pitcher[\"TB_SC\"] == -1, \"TB_SC\"] = \"B\"\n",
    "player_pitcher = pitcher\n",
    "\n",
    "batter[\"TB_SC\"] = batter[\"VS_T_ID\"].str.find('@')\n",
    "batter.loc[batter[\"TB_SC\"] == 0, \"TB_SC\"] = \"T\"\n",
    "batter.loc[batter[\"TB_SC\"] == -1, \"TB_SC\"] = \"B\"\n",
    "player_batter = batter"
   ]
  },
  {
   "cell_type": "code",
   "execution_count": 9,
   "metadata": {},
   "outputs": [],
   "source": [
    "player_pitcher[\"wrong\"] = 0\n",
    "player_pitcher.loc[(player_pitcher[\"GDAY_DS\"].astype(int) >= 20200812) & (player_pitcher[\"NAME\"] == \"문경찬\") & (player_pitcher[\"T_ID\"] == \"HT\"), \"wrong\"] = 1\n",
    "player_pitcher.loc[(player_pitcher[\"GDAY_DS\"].astype(int) < 20200812) & (player_pitcher[\"NAME\"] == \"문경찬\") & (player_pitcher[\"T_ID\"] == \"NC\"), \"wrong\"] = 1\n",
    "\n",
    "player_pitcher.loc[(player_pitcher[\"GDAY_DS\"].astype(int) >= 20200812) & (player_pitcher[\"NAME\"] == \"박정수\") & (player_pitcher[\"T_ID\"] == \"HT\"), \"wrong\"] = 1\n",
    "player_pitcher.loc[(player_pitcher[\"GDAY_DS\"].astype(int) < 20200812) & (player_pitcher[\"NAME\"] == \"박정수\") & (player_pitcher[\"T_ID\"] == \"NC\"), \"wrong\"] = 1\n",
    "\n",
    "player_pitcher.loc[(player_pitcher[\"GDAY_DS\"].astype(int) >= 20200812) & (player_pitcher[\"NAME\"] == \"장현식\") & (player_pitcher[\"T_ID\"] == \"NC\"), \"wrong\"] = 1\n",
    "player_pitcher.loc[(player_pitcher[\"GDAY_DS\"].astype(int) < 20200812) & (player_pitcher[\"NAME\"] == \"장현식\") & (player_pitcher[\"T_ID\"] == \"HT\"), \"wrong\"] = 1\n",
    "\n",
    "player_pitcher.loc[(player_pitcher[\"GDAY_DS\"].astype(int) >= 20200812) & (player_pitcher[\"NAME\"] == \"김태진\") & (player_pitcher[\"T_ID\"] == \"NC\"), \"wrong\"] = 1\n",
    "player_pitcher.loc[(player_pitcher[\"GDAY_DS\"].astype(int) >= 20200812) & (player_pitcher[\"NAME\"] == \"김태진\") & (player_pitcher[\"T_ID\"] == \"HT\"), \"wrong\"] = 1\n",
    "\n",
    "player_pitcher.loc[(player_pitcher[\"GDAY_DS\"].astype(int) >= 20200813) & (player_pitcher[\"NAME\"] == \"오태곤\") & (player_pitcher[\"T_ID\"] == \"KT\"), \"wrong\"] = 1\n",
    "player_pitcher.loc[(player_pitcher[\"GDAY_DS\"].astype(int) < 20200813) & (player_pitcher[\"NAME\"] == \"오태곤\") & (player_pitcher[\"T_ID\"] == \"SK\"), \"wrong\"] = 1\n",
    "\n",
    "player_pitcher.loc[(player_pitcher[\"GDAY_DS\"].astype(int) >= 20200813) & (player_pitcher[\"NAME\"] == \"이홍구\") & (player_pitcher[\"T_ID\"] == \"SK\"), \"wrong\"] = 1\n",
    "player_pitcher.loc[(player_pitcher[\"GDAY_DS\"].astype(int) < 20200813) & (player_pitcher[\"NAME\"] == \"이홍구\") & (player_pitcher[\"T_ID\"] == \"KT\"), \"wrong\"] = 1\n",
    "\n",
    "player_pitcher.loc[(player_pitcher[\"NAME\"] == \"홍건희\") & (player_pitcher[\"T_ID\"] == \"HT\")] = 1\n",
    "player_pitcher.loc[(player_pitcher[\"NAME\"] == \"이태양\") & (player_pitcher[\"T_ID\"] == \"HH\")] = 1\n",
    "\n",
    "player_pitcher = player_pitcher[player_pitcher[\"wrong\"] == 0].drop(\"wrong\", axis = \"columns\")\n",
    "player_pitcher = player_pitcher.drop_duplicates()"
   ]
  },
  {
   "cell_type": "code",
   "execution_count": 10,
   "metadata": {},
   "outputs": [],
   "source": [
    "player_batter[\"wrong\"] = 0\n",
    "player_batter.loc[(player_batter[\"GDAY_DS\"].astype(int) >= 20200813) & (player_batter[\"NAME\"] == \"오태곤\") & (player_batter[\"T_ID\"] == \"KT\"), \"wrong\"] = 1\n",
    "player_batter.loc[(player_batter[\"GDAY_DS\"].astype(int) < 20200813) & (player_batter[\"NAME\"] == \"오태곤\") & (player_batter[\"T_ID\"] == \"SK\"), \"wrong\"] = 1\n",
    "\n",
    "player_batter.loc[(player_batter[\"GDAY_DS\"].astype(int) >= 20200812) & (player_batter[\"NAME\"] == \"김태진\") & (player_batter[\"T_ID\"] == \"NC\"), \"wrong\"] = 1\n",
    "player_batter.loc[(player_batter[\"GDAY_DS\"].astype(int) < 20200812) & (player_batter[\"NAME\"] == \"김태진\") & (player_batter[\"T_ID\"] == \"HT\"), \"wrong\"] = 1\n",
    "\n",
    "player_batter.loc[(player_batter[\"GDAY_DS\"].astype(int) >= 20200813) & (player_batter[\"NAME\"] == \"이홍구\") & (player_batter[\"T_ID\"] == \"SK\"), \"wrong\"] = 1\n",
    "player_batter.loc[(player_batter[\"GDAY_DS\"].astype(int) < 20200813) & (player_batter[\"NAME\"] == \"이홍구\") & (player_batter[\"T_ID\"] == \"KT\"), \"wrong\"] = 1\n",
    "\n",
    "player_batter.loc[(player_batter[\"NAME\"] == \"이흥련\") & (player_batter[\"T_ID\"] == \"OB\"), \"wrong\"] = 1\n",
    "player_batter.loc[(player_batter[\"NAME\"] == \"노수광\") & (player_batter[\"T_ID\"] == \"SK\"), \"wrong\"] = 1\n",
    "player_batter = player_batter[player_batter[\"wrong\"] == 0].drop(\"wrong\", axis = \"columns\")\n",
    "player_batter = player_batter.drop_duplicates()"
   ]
  },
  {
   "cell_type": "code",
   "execution_count": 11,
   "metadata": {},
   "outputs": [],
   "source": [
    "player_batter[\"HEADER_NO\"] = player_batter.groupby([\"GDAY_DS\", \"T_ID\", \"NAME\"]).cumcount()\n",
    "player_pitcher[\"HEADER_NO\"] = player_pitcher.groupby([\"GDAY_DS\", \"T_ID\", \"NAME\"]).cumcount()\n",
    "player_batter[\"VS_T_ID\"] = player_batter[\"VS_T_ID\"].replace('\\@', '', regex = True)"
   ]
  },
  {
   "cell_type": "code",
   "execution_count": 12,
   "metadata": {},
   "outputs": [],
   "source": [
    "batter_pa[\"타자\"] = batter_pa[\"타자\"].str.split(' ').str[1]\n",
    "batter_pa[\"날짜\"] = batter_pa[\"날짜\"].replace('\\-', '', regex = True)\n",
    "batter_pa.columns = [\"GDAY_DS\", \"VS_T_ID\", \"INN\", \"PIT\", \"NAME\"]\n",
    "batter_pa = batter_pa[batter_pa[\"GDAY_DS\"].astype(int) > 20200719].reset_index(drop = True)\n",
    "batter_pa = pd.merge(batter_pa, player_batter[[\"GDAY_DS\", \"VS_T_ID\", \"NAME\", \"HEADER_NO\"]], how = \"left\")\n",
    "PA = batter_pa.groupby([\"GDAY_DS\", \"VS_T_ID\", \"NAME\", \"HEADER_NO\"]).count().reset_index()\n",
    "PA = PA.drop(\"INN\", axis = \"columns\")\n",
    "PA.rename(columns = {\"PIT\" : \"PA\"}, inplace = True)"
   ]
  },
  {
   "cell_type": "code",
   "execution_count": 13,
   "metadata": {},
   "outputs": [],
   "source": [
    "player_batter = pd.merge(player_batter, PA, how = \"left\")\n",
    "player_batter[\"PA\"] = player_batter[\"PA\"].fillna(0)\n",
    "player_batter[\"AGE_VA\"] = 2020 - player_batter[\"AGE\"].str.extract('(^\\d*)').values.astype(int)\n",
    "player_batter = player_batter.drop([\"VS_T_ID\", \"RES\", \"POSITION\", \"AGE\"], axis = \"columns\")\n",
    "player_batter[[\"START_CK\", \"AB\", \"RUN\", \"HIT\", \"H2\", \"H3\", \"HR\", \"TB\", \"RBI\", \"SB\", \"CS\", \"BB\", \"HP\", \"IB\", \"KK\", \"GD\", \"SH\", \"SF\", \"AGE_VA\", \"MONEY\", \"PA\"]] = \\\n",
    "player_batter[[\"START_CK\", \"AB\", \"RUN\", \"HIT\", \"H2\", \"H3\", \"HR\", \"TB\", \"RBI\", \"SB\", \"CS\", \"BB\", \"HP\", \"IB\", \"KK\", \"GD\", \"SH\", \"SF\", \"AGE_VA\", \"MONEY\", \"PA\"]].astype(float)"
   ]
  },
  {
   "cell_type": "code",
   "execution_count": 14,
   "metadata": {},
   "outputs": [],
   "source": [
    "team_batter = player_batter.groupby([\"GDAY_DS\", \"T_ID\", \"HEADER_NO\"]).sum().reset_index()\n",
    "team_batter = team_batter.drop([\"MONEY\", \"AGE_VA\"], axis = \"columns\")\n",
    "team_batter = pd.merge(team_batter, player_batter[[\"GDAY_DS\", \"T_ID\", \"HEADER_NO\", \"TB_SC\"]].drop_duplicates())"
   ]
  },
  {
   "cell_type": "code",
   "execution_count": 15,
   "metadata": {},
   "outputs": [],
   "source": [
    "player_pitcher[\"AGE_VA\"] = 2020 - player_pitcher[\"AGE\"].str.extract('(^\\d*)').values.astype(int)\n",
    "player_pitcher = player_pitcher.drop([\"VS_T_ID\", \"RES\", \"AGE\"], axis = \"columns\")\n",
    "player_pitcher[[\"INN2\", \"R\", \"ER\", \"PA\", \"AB\", \"HIT\", \"H2\", \"H3\", \"HR\", \"BB\", \"IB\", \"HP\", \"KK\", \"BF\", \"WHIP\", \"MONEY\"]] =\\\n",
    "player_pitcher[[\"INN2\", \"R\", \"ER\", \"PA\", \"AB\", \"HIT\", \"H2\", \"H3\", \"HR\", \"BB\", \"IB\", \"HP\", \"KK\", \"BF\", \"WHIP\", \"MONEY\"]].astype(float)"
   ]
  },
  {
   "cell_type": "code",
   "execution_count": 16,
   "metadata": {},
   "outputs": [],
   "source": [
    "team_pitcher = player_pitcher.groupby([\"GDAY_DS\", \"T_ID\", \"HEADER_NO\"]).sum().reset_index()\n",
    "team_pitcher = team_pitcher.drop([\"MONEY\", \"AGE_VA\"], axis = \"columns\")\n",
    "team_pitcher = pd.merge(team_pitcher, player_pitcher[[\"GDAY_DS\", \"T_ID\", \"HEADER_NO\", \"TB_SC\", \"WLS\"]].drop_duplicates())\n",
    "csum_player_pitcher = player_pitcher.groupby([\"T_ID\", \"GDAY_DS\", \"HEADER_NO\", \"NAME\"]).sum().groupby([\"T_ID\", \"NAME\"]).cumsum().reset_index()"
   ]
  },
  {
   "cell_type": "code",
   "execution_count": 66,
   "metadata": {},
   "outputs": [],
   "source": [
    "player_batter.to_csv(\"./crawled_player_batter.csv\", index = False, encoding = \"utf-8-sig\")\n",
    "player_pitcher.to_csv(\"./crawled_player_pitcher.csv\", index = False, encoding = \"utf-8-sig\")\n",
    "team_batter.to_csv(\"./crawled_team_batter.csv\", index = False, encoding = \"utf-8-sig\")\n",
    "team_pitcher.to_csv(\"./crawled_team_pitcher.csv\", index = False, encoding = \"utf-8-sig\")\n",
    "csum_player_pitcher.to_csv(\"./crawled_csum_player_pitcher.csv\", index = False, encoding = \"utf-8-sig\")"
   ]
  },
  {
   "cell_type": "code",
   "execution_count": null,
   "metadata": {},
   "outputs": [],
   "source": []
  }
 ],
 "metadata": {
  "kernelspec": {
   "display_name": "Python 3",
   "language": "python",
   "name": "python3"
  },
  "language_info": {
   "codemirror_mode": {
    "name": "ipython",
    "version": 3
   },
   "file_extension": ".py",
   "mimetype": "text/x-python",
   "name": "python",
   "nbconvert_exporter": "python",
   "pygments_lexer": "ipython3",
   "version": "3.7.6"
  }
 },
 "nbformat": 4,
 "nbformat_minor": 4
}
