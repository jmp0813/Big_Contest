{
 "cells": [
  {
   "cell_type": "code",
   "execution_count": 1,
   "metadata": {
    "ExecuteTime": {
     "end_time": "2020-08-20T11:56:32.235978Z",
     "start_time": "2020-08-20T11:54:40.554931Z"
    }
   },
   "outputs": [
    {
     "name": "stdout",
     "output_type": "stream",
     "text": [
      "Requirement already satisfied: openpyxl in c:\\users\\jmp08\\anaconda3\\lib\\site-packages (2.6.2)\n",
      "Requirement already satisfied: jdcal in c:\\users\\jmp08\\anaconda3\\lib\\site-packages (from openpyxl) (1.4.1)\n",
      "Requirement already satisfied: et-xmlfile in c:\\users\\jmp08\\anaconda3\\lib\\site-packages (from openpyxl) (1.0.1)\n",
      "Requirement already satisfied: pandas in c:\\users\\jmp08\\anaconda3\\lib\\site-packages (1.1.0)\n",
      "Requirement already satisfied: python-dateutil>=2.7.3 in c:\\users\\jmp08\\anaconda3\\lib\\site-packages (from pandas) (2.8.0)\n",
      "Requirement already satisfied: numpy>=1.15.4 in c:\\users\\jmp08\\anaconda3\\lib\\site-packages (from pandas) (1.16.4)\n",
      "Requirement already satisfied: pytz>=2017.2 in c:\\users\\jmp08\\anaconda3\\lib\\site-packages (from pandas) (2019.1)\n",
      "Requirement already satisfied: six>=1.5 in c:\\users\\jmp08\\anaconda3\\lib\\site-packages (from python-dateutil>=2.7.3->pandas) (1.12.0)\n",
      "      T_ID   GDAY_DS  HEADER_NO   P_ID  START_CK  BAT_ORDER_NO   PA   AB  RBI  \\\n",
      "0       HH  20160401          0  60404         0             3    1    1    0   \n",
      "1       HH  20160401          0  62700         1             9    2    2    0   \n",
      "2       HH  20160401          0  64086         1             7    6    4    0   \n",
      "3       HH  20160401          0  66740         1             5    6    6    0   \n",
      "4       HH  20160401          0  71347         1             2    6    6    1   \n",
      "...    ...       ...        ...    ...       ...           ...  ...  ...  ...   \n",
      "18679   WO  20161009          0  74215        91           374  402  341   80   \n",
      "18680   WO  20161009          0  78168       139           177  646  560   63   \n",
      "18681   WO  20161009          0  79130        15           251   80   66    7   \n",
      "18682   WO  20161009          0  79300        13           429  106   91    9   \n",
      "18683   WO  20161009          0  79365       122           965  454  411   70   \n",
      "\n",
      "       RUN  ...  BB  IB  HP  KK  GD  ERR  LOB  P_AB_CN  P_HIT_CN  GAME_COUNT  \n",
      "0        0  ...   0   0   0   0   0    0    1        0         0           1  \n",
      "1        1  ...   0   0   0   0   0    1    0        0         0           1  \n",
      "2        0  ...   1   0   0   3   0    0    1        2         0           1  \n",
      "3        0  ...   0   0   0   0   0    0    1        1         1           1  \n",
      "4        1  ...   0   0   0   2   0    0    0        1         0           1  \n",
      "...    ...  ...  ..  ..  ..  ..  ..  ...  ...      ...       ...         ...  \n",
      "18679   72  ...  46   3   9  50  16    6   77      121        35          92  \n",
      "18680  111  ...  69   2  10  58   6   15  113      118        36         140  \n",
      "18681   10  ...  11   0   1  24   1    1   18       20         3          40  \n",
      "18682   16  ...  10   0   0  16   3    0   29       25         4          81  \n",
      "18683   44  ...  27   0   7  93  18    7   71      132        33         127  \n",
      "\n",
      "[18684 rows x 28 columns]\n"
     ]
    }
   ],
   "source": [
    "%run data_tools.ipynb\n",
    "year = 2019\n",
    "data = load_data(year)"
   ]
  },
  {
   "cell_type": "code",
   "execution_count": 2,
   "metadata": {
    "ExecuteTime": {
     "end_time": "2020-08-20T11:57:59.331491Z",
     "start_time": "2020-08-20T11:56:32.237928Z"
    }
   },
   "outputs": [
    {
     "name": "stdout",
     "output_type": "stream",
     "text": [
      "success save sheet to data/season_2019.xlsx:41.팀투수(집계_CSUM)\n"
     ]
    }
   ],
   "source": [
    "# 41.팀투수(집계_CSUM)\n",
    "\n",
    "## 41.팀투수(집계_CSUM)의 연산 columns 및 메타정보\n",
    "sheetname = '41.팀투수(집계_CSUM)'\n",
    "load_data_key = 'team_pitcher'\n",
    "drop_cols = ['G_ID', 'VS_T_ID', 'TB_SC', 'P_WHIP_RT', 'P2_WHIP_RT', 'CB_WHIP_RT']\n",
    "key_cols = ['T_ID']\n",
    "sort_cols = ['T_ID', 'GDAY_DS', 'HEADER_NO']\n",
    "\n",
    "# 데이터 전처리\n",
    "ppdata = data[load_data_key].drop(drop_cols, axis = 1)\n",
    "ppdata[\"WLS\"] = ppdata[\"WLS\"].astype(\"category\")\n",
    "ppdata = pd.get_dummies(ppdata, columns = ['WLS'], drop_first=False)\n",
    "\n",
    "# 집계데이터 생성 및 기록\n",
    "ppdata = ppdata.groupby(sort_cols).sum().groupby(key_cols).cumsum()\n",
    "cnt_by_sortcols = ppdata.groupby(sort_cols).sum().groupby(key_cols).cumcount() + 1\n",
    "cnt_by_sortcols = pd.Series(cnt_by_sortcols, name = 'GAME_COUNT')\n",
    "out = pd.concat([ppdata, cnt_by_sortcols], axis = 1)\n",
    "save_data(out.reset_index(), year, sheetname)"
   ]
  },
  {
   "cell_type": "code",
   "execution_count": 3,
   "metadata": {
    "ExecuteTime": {
     "end_time": "2020-08-20T11:59:40.487945Z",
     "start_time": "2020-08-20T11:57:59.335266Z"
    }
   },
   "outputs": [
    {
     "name": "stdout",
     "output_type": "stream",
     "text": [
      "success save sheet to data/season_2019.xlsx:51.팀타자(집계_CSUM)\n"
     ]
    }
   ],
   "source": [
    "# 51.팀타자(집계_CSUM)\n",
    "\n",
    "## 51.팀타자(집계_CSUM)의 연산 columns 및 메타정보\n",
    "sheetname = '51.팀타자(집계_CSUM)'\n",
    "load_data_key = 'team_batter'\n",
    "drop_cols = ['G_ID', 'VS_T_ID', 'TB_SC', 'P_HRA_RT']\n",
    "key_cols = ['T_ID']\n",
    "sort_cols = ['T_ID', 'GDAY_DS', 'HEADER_NO']\n",
    "\n",
    "# 데이터 전처리\n",
    "ppdata = data[load_data_key].drop(drop_cols, axis = 1)\n",
    "\n",
    "# 집계데이터 생성 및 기록\n",
    "ppdata = ppdata.groupby(sort_cols).sum().groupby(key_cols).cumsum()\n",
    "cnt_by_sortcols = ppdata.groupby(sort_cols).sum().groupby(key_cols).cumcount() + 1\n",
    "cnt_by_sortcols = pd.Series(cnt_by_sortcols, name = 'GAME_COUNT')\n",
    "out = pd.concat([ppdata, cnt_by_sortcols], axis = 1)\n",
    "save_data(out.reset_index(), year, sheetname)"
   ]
  },
  {
   "cell_type": "code",
   "execution_count": 4,
   "metadata": {
    "ExecuteTime": {
     "end_time": "2020-08-20T12:01:29.015773Z",
     "start_time": "2020-08-20T11:59:40.490947Z"
    }
   },
   "outputs": [
    {
     "name": "stdout",
     "output_type": "stream",
     "text": [
      "success save sheet to data/season_2019.xlsx:61.개인투수(집계_CSUM)\n"
     ]
    }
   ],
   "source": [
    "# 61.개인투수(집계_CSUM)\n",
    "\n",
    "## 61.개인투수(집계_CSUM)의 연산 columns 및 메타정보\n",
    "sheetname = '61.개인투수(집계_CSUM)'\n",
    "load_data_key = 'player_pitcher'\n",
    "drop_cols = ['G_ID', 'VS_T_ID', 'TB_SC', 'P_WHIP_RT', 'P2_WHIP_RT', 'CB_WHIP_RT']\n",
    "key_cols = ['T_ID', 'P_ID']\n",
    "sort_cols = ['T_ID', 'GDAY_DS', 'HEADER_NO', 'P_ID']\n",
    "\n",
    "# 데이터 전처리\n",
    "ppdata = data[load_data_key].drop(drop_cols, axis = 1)\n",
    "ppdata[\"WLS\"] = ppdata[\"WLS\"].astype(\"category\")\n",
    "ppdata = pd.get_dummies(ppdata, columns = ['WLS'], drop_first=False)\n",
    "\n",
    "# 집계데이터 생성 및 기록\n",
    "ppdata = ppdata.groupby(sort_cols).sum().groupby(key_cols).cumsum()\n",
    "cnt_by_sortcols = ppdata.groupby(sort_cols).sum().groupby(key_cols).cumcount() + 1\n",
    "cnt_by_sortcols = pd.Series(cnt_by_sortcols, name = 'GAME_COUNT')\n",
    "out = pd.concat([ppdata, cnt_by_sortcols], axis = 1)\n",
    "save_data(out.reset_index(), year, sheetname)"
   ]
  },
  {
   "cell_type": "code",
   "execution_count": 5,
   "metadata": {
    "ExecuteTime": {
     "end_time": "2020-08-20T12:03:28.083369Z",
     "start_time": "2020-08-20T12:01:29.019565Z"
    }
   },
   "outputs": [
    {
     "name": "stdout",
     "output_type": "stream",
     "text": [
      "success save sheet to data/season_2019.xlsx:71.개인타자(집계_CSUM)\n"
     ]
    }
   ],
   "source": [
    "# 71.개인타자(집계_CSUM)\n",
    "\n",
    "## 71.개인타자(집계_CSUM)의 연산 columns 및 메타정보\n",
    "sheetname = '71.개인타자(집계_CSUM)'\n",
    "load_data_key = 'player_batter'\n",
    "drop_cols = ['G_ID', 'VS_T_ID', 'TB_SC', 'P_HRA_RT']\n",
    "key_cols = ['T_ID', 'P_ID']\n",
    "sort_cols = ['T_ID', 'GDAY_DS', 'HEADER_NO', 'P_ID']\n",
    "\n",
    "# 데이터 전처리\n",
    "ppdata = data[load_data_key].drop(drop_cols, axis = 1)\n",
    "\n",
    "# 집계데이터 생성 및 기록\n",
    "ppdata = ppdata.groupby(sort_cols).sum().groupby(key_cols).cumsum()\n",
    "cnt_by_sortcols = ppdata.groupby(sort_cols).sum().groupby(key_cols).cumcount() + 1\n",
    "cnt_by_sortcols = pd.Series(cnt_by_sortcols, name = 'GAME_COUNT')\n",
    "out = pd.concat([ppdata, cnt_by_sortcols], axis = 1)\n",
    "save_data(out.reset_index(), year, sheetname)"
   ]
  }
 ],
 "metadata": {
  "kernelspec": {
   "display_name": "Python 3",
   "language": "python",
   "name": "python3"
  },
  "language_info": {
   "codemirror_mode": {
    "name": "ipython",
    "version": 3
   },
   "file_extension": ".py",
   "mimetype": "text/x-python",
   "name": "python",
   "nbconvert_exporter": "python",
   "pygments_lexer": "ipython3",
   "version": "3.7.6"
  }
 },
 "nbformat": 4,
 "nbformat_minor": 4
}
